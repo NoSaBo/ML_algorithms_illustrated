{
 "cells": [
  {
   "cell_type": "code",
   "execution_count": 2,
   "metadata": {
    "collapsed": false
   },
   "outputs": [
    {
     "name": "stdout",
     "output_type": "stream",
     "text": [
      "The autoreload extension is already loaded. To reload it, use:\n",
      "  %reload_ext autoreload\n"
     ]
    }
   ],
   "source": [
    "# A bit of setup\n",
    "import numpy as np\n",
    "import matplotlib.pyplot as plt\n",
    "import json\n",
    "\n",
    "%matplotlib inline\n",
    "plt.rcParams['figure.figsize'] = (10.0, 8.0) # set default size of plots\n",
    "plt.rcParams['image.interpolation'] = 'nearest'\n",
    "plt.rcParams['image.cmap'] = 'gray'\n",
    "\n",
    "# for auto-reloading extenrnal modules\n",
    "# see http://stackoverflow.com/questions/1907993/autoreload-of-modules-in-ipython\n",
    "%load_ext autoreload\n",
    "%autoreload 2"
   ]
  },
  {
   "cell_type": "code",
   "execution_count": 105,
   "metadata": {
    "collapsed": false
   },
   "outputs": [
    {
     "name": "stdout",
     "output_type": "stream",
     "text": [
      "[[  98.     5.5]\n",
      " [ 155.     5.2]\n",
      " [ 120.     5.7]\n",
      " [ 168.     6.2]\n",
      " [ 200.     5.5]\n",
      " [ 210.     5. ]\n",
      " [ 168.     5. ]\n",
      " [ 110.     6. ]\n",
      " [ 125.     5.8]]\n",
      "[0, 0, 0, 0, 1, 1, 1, 1, 1]\n"
     ]
    },
    {
     "data": {
      "image/png": "[encoded data removed]",
      "text/plain": [
       "<matplotlib.figure.Figure at 0x24f02f98>"
      ]
     },
     "metadata": {},
     "output_type": "display_data"
    }
   ],
   "source": [
    "from __future__ import division\n",
    "# np.random.seed(1)\n",
    "# N = 4 # number of points per class\n",
    "# D = 2 # dimensionality\n",
    "# K = 2 # number of classes\n",
    "# X = np.zeros((N*K,D))\n",
    "# y = np.zeros(N*K, dtype='uint8')\n",
    "# for j in xrange(K):\n",
    "#   ix = range(N*j,N*(j+1))\n",
    "#   r = np.linspace(0.0,1,N) # radius\n",
    "#   t = np.linspace(j*4,(j+1)*4,N) + np.random.randn(N)*0.2 # theta\n",
    "#   X[ix] = np.c_[r*np.sin(t), r*np.cos(t)]\n",
    "#   y[ix] = j\n",
    "\n",
    "\n",
    "\n",
    "D = 2 # dimensionality, we have x1 and x2, so pick 2, this is also number of nodes on the input layer\n",
    "K = 2 # number of classes, which is also number of nodes on the output layer, we pick 2\n",
    "\n",
    "# Linearly separable case for the Logistic regression\n",
    "# filePrefix = 'LinearlySeparableCase-'\n",
    "# X = np.array([[98, 5.5],\n",
    "#     [120, 5.8],\n",
    "#     [168, 6.2],\n",
    "#     [200, 5.5],\n",
    "#     [210, 5],\n",
    "#     [168, 5]])\n",
    "# y= [0,0,0,1,1,1]\n",
    "\n",
    "# Linearly non-separable case for the NN\n",
    "filePrefix = 'LinearlyNonSeparableCase-'\n",
    "X = np.array([[98, 5.5],\n",
    "    [155, 5.2],\n",
    "    [120, 5.7],\n",
    "    [168, 6.2],\n",
    "    [200, 5.5],\n",
    "    [210, 5],\n",
    "    [168, 5],\n",
    "    [110, 6.0],\n",
    "    [125, 5.8]])\n",
    "y= [0,0,0,0,1,1,1,1,1]\n",
    "\n",
    "\n",
    "\n",
    "\n",
    "fig = plt.figure()\n",
    "plt.scatter(X[:, 0], X[:, 1], c=y, s=80)\n",
    "plt.xlim([np.min(X[:,0])-.5,np.max(X[:,0])+.5])\n",
    "plt.ylim([np.min(X[:,1])-.5,np.max(X[:,1])+.5])\n",
    "fig.savefig(filePrefix + 'raw.png')\n",
    "print X\n",
    "print y"
   ]
  },
  {
   "cell_type": "code",
   "execution_count": 106,
   "metadata": {
    "collapsed": false
   },
   "outputs": [
    {
     "name": "stdout",
     "output_type": "stream",
     "text": [
      "[[ 0.          0.41666667]\n",
      " [ 0.50892857  0.16666667]\n",
      " [ 0.19642857  0.58333333]\n",
      " [ 0.625       1.        ]\n",
      " [ 0.91071429  0.41666667]\n",
      " [ 1.          0.        ]\n",
      " [ 0.625       0.        ]\n",
      " [ 0.10714286  0.83333333]\n",
      " [ 0.24107143  0.66666667]]\n",
      "[0, 0, 0, 0, 1, 1, 1, 1, 1]\n"
     ]
    },
    {
     "data": {
      "image/png": "[encoded data removed]",
      "text/plain": [
       "<matplotlib.figure.Figure at 0x222c34a8>"
      ]
     },
     "metadata": {},
     "output_type": "display_data"
    }
   ],
   "source": [
    "# Step 1\n",
    "# Normalize data \n",
    "\n",
    "X1 = map(lambda x: (x-np.min(X[:,0]))/(np.max(X[:,0])-np.min(X[:,0])), X[:,0])\n",
    "X2 = map(lambda x: (x-np.min(X[:,1]))/(np.max(X[:,1])-np.min(X[:,1])), X[:,1])\n",
    "X = np.array(zip(X1,X2))\n",
    "\n",
    "fig = plt.figure()\n",
    "plt.scatter(X[:, 0], X[:, 1], c=y, s=80)\n",
    "plt.xlim([np.min(X[:,0])-.5,np.max(X[:,0])+.5])\n",
    "plt.ylim([np.min(X[:,1])-.5,np.max(X[:,1])+.5])\n",
    "fig.savefig(filePrefix + 'normalized.png')\n",
    "print X\n",
    "print y"
   ]
  },
  {
   "cell_type": "code",
   "execution_count": 107,
   "metadata": {
    "collapsed": false,
    "scrolled": false
   },
   "outputs": [],
   "source": [
    "#Train a Linear Classifier\n",
    "\n",
    "# initialize parameters randomly\n",
    "W = 0.01 * np.random.randn(D,K)\n",
    "b = np.zeros((1,K))\n",
    "\n",
    "# some hyperparameters\n",
    "step_size = 1\n",
    "reg = 1e-3 # regularization strength\n",
    "\n",
    "losses = []\n",
    "weights = []\n",
    "biases = []\n",
    "\n",
    "# gradient descent loop\n",
    "num_examples = X.shape[0]\n",
    "for i in xrange(20000):\n",
    "  \n",
    "    # evaluate class scores, [N x K], this hasonly one layer, so scores are predicted results\n",
    "    scores = np.dot(X, W) + b \n",
    "  \n",
    "    # compute the class probabilities\n",
    "    exp_scores = np.exp(scores)\n",
    "    probs = exp_scores / np.sum(exp_scores, axis=1, keepdims=True) # [N x K]\n",
    "  \n",
    "    # compute the loss: average cross-entropy loss and regularization\n",
    "    corect_logprobs = -np.log(probs[range(num_examples),y])\n",
    "    data_loss = np.sum(corect_logprobs)/num_examples\n",
    "    reg_loss = 0.5*reg*np.sum(W*W)\n",
    "    loss = data_loss + reg_loss\n",
    "    \n",
    "    #   if i % 10 == 0:\n",
    "    #     print \"iteration %d: loss %f\" % (i, loss)\n",
    "    \n",
    "    # compute the gradient on scores\n",
    "    dscores = probs\n",
    "    dscores[range(num_examples),y] -= 1\n",
    "    dscores /= num_examples\n",
    "  \n",
    "    # backpropate the gradient to the parameters (W,b)\n",
    "    dW = np.dot(X.T, dscores)\n",
    "    db = np.sum(dscores, axis=0, keepdims=True)\n",
    "  \n",
    "    dW += reg*W # regularization gradient\n",
    "  \n",
    "    # perform a parameter update\n",
    "    W += -step_size * dW\n",
    "    b += -step_size * db\n",
    "  \n",
    "    losses.append(loss.tolist())\n",
    "    weights.append(W.tolist())\n",
    "    biases.append(b.tolist())\n",
    "    \n",
    "with open(filePrefix + \"LRweights.txt\",\"w\") as f:\n",
    "    f.write(json.dumps(weights))\n",
    "with open(filePrefix + \"LRlosses.txt\",\"w\") as f:\n",
    "    f.write(json.dumps(losses))\n",
    "with open(filePrefix + \"LRbiases.txt\",\"w\") as f:\n",
    "    f.write(json.dumps(biases))"
   ]
  },
  {
   "cell_type": "code",
   "execution_count": 108,
   "metadata": {
    "collapsed": false
   },
   "outputs": [
    {
     "name": "stdout",
     "output_type": "stream",
     "text": [
      "[[-1.04654499  1.04654499]\n",
      " [ 0.30772167 -0.30772167]]\n"
     ]
    }
   ],
   "source": [
    "print W"
   ]
  },
  {
   "cell_type": "code",
   "execution_count": 109,
   "metadata": {
    "collapsed": false
   },
   "outputs": [
    {
     "name": "stdout",
     "output_type": "stream",
     "text": [
      "[[ 0.21514363 -0.21514363]]\n"
     ]
    }
   ],
   "source": [
    "print b"
   ]
  },
  {
   "cell_type": "code",
   "execution_count": 110,
   "metadata": {
    "collapsed": false
   },
   "outputs": [
    {
     "name": "stdout",
     "output_type": "stream",
     "text": [
      "training accuracy: 0.56\n"
     ]
    }
   ],
   "source": [
    "# evaluate training set accuracy\n",
    "scores = np.dot(X, W) + b\n",
    "predicted_class = np.argmax(scores, axis=1)\n",
    "print 'training accuracy: %.2f' % (np.mean(predicted_class == y))"
   ]
  },
  {
   "cell_type": "code",
   "execution_count": 111,
   "metadata": {
    "collapsed": false
   },
   "outputs": [
    {
     "name": "stdout",
     "output_type": "stream",
     "text": [
      "[0, 0, 0, 0, 1, 1, 1, 1, 1]\n",
      "['w', 'w', 'w', 'w', 'k', 'k', 'k', 'k', 'k']\n"
     ]
    }
   ],
   "source": [
    "print y\n",
    "colorMap = []\n",
    "for i in y:\n",
    "    if i==0:\n",
    "        colorMap.append('w')\n",
    "    if i==1:\n",
    "        colorMap.append('k')\n",
    "print colorMap"
   ]
  },
  {
   "cell_type": "code",
   "execution_count": 112,
   "metadata": {
    "collapsed": false
   },
   "outputs": [
    {
     "data": {
      "image/png": "[encoded data removed]",
      "text/plain": [
       "<matplotlib.figure.Figure at 0xab4f2e8>"
      ]
     },
     "metadata": {},
     "output_type": "display_data"
    }
   ],
   "source": [
    "# plot the resulting classifier\n",
    "h = 0.02\n",
    "x_min, x_max = X[:, 0].min() - 1, X[:, 0].max() + 1\n",
    "y_min, y_max = X[:, 1].min() - 1, X[:, 1].max() + 1\n",
    "xx, yy = np.meshgrid(np.arange(x_min, x_max, h),\n",
    "                     np.arange(y_min, y_max, h))\n",
    "Z = np.dot(np.c_[xx.ravel(), yy.ravel()], W) + b\n",
    "Z = np.argmax(Z, axis=1)\n",
    "Z = Z.reshape(xx.shape)\n",
    "fig = plt.figure()\n",
    "plt.contourf(xx,yy, Z, colors=('w', 'w', 'k'), alpha=0.8)\n",
    "plt.scatter(X[:, 0], X[:, 1], c=colorMap, s=100)\n",
    "plt.xlim(xx.min(), xx.max())\n",
    "plt.ylim(yy.min(), yy.max())\n",
    "fig.savefig(filePrefix + 'LR_contourf.png')"
   ]
  },
  {
   "cell_type": "code",
   "execution_count": 113,
   "metadata": {
    "collapsed": false
   },
   "outputs": [
    {
     "name": "stdout",
     "output_type": "stream",
     "text": [
      "(150L, 150L)\n"
     ]
    }
   ],
   "source": [
    "print Z.shape"
   ]
  },
  {
   "cell_type": "code",
   "execution_count": 164,
   "metadata": {
    "collapsed": false
   },
   "outputs": [
    {
     "name": "stdout",
     "output_type": "stream",
     "text": [
      "iteration 0: loss 0.693171\n",
      "iteration 1000: loss 0.325047\n",
      "iteration 2000: loss 0.319994\n",
      "iteration 3000: loss 0.320239\n",
      "iteration 4000: loss 0.325692\n",
      "iteration 5000: loss 0.303627\n",
      "iteration 6000: loss 0.326931\n",
      "iteration 7000: loss 0.299316\n",
      "iteration 8000: loss 0.322317\n",
      "iteration 9000: loss 0.325706\n"
     ]
    }
   ],
   "source": [
    "# initialize parameters randomly\n",
    "h = 3 # size of node on the hidden layer\n",
    "W = 0.01 * np.random.randn(D,h)\n",
    "b = np.zeros((1,h))\n",
    "W2 = 0.01 * np.random.randn(h,K)\n",
    "b2 = np.zeros((1,K))\n",
    "\n",
    "# some hyperparameters\n",
    "step_size = 1e-0\n",
    "reg = 1e-3 # regularization strength\n",
    "\n",
    "# store intermediate values\n",
    "losses = []\n",
    "\n",
    "# layer 1\n",
    "weights = []\n",
    "biases = []\n",
    "\n",
    "# layer 2\n",
    "weights2 = []\n",
    "biases2 = []\n",
    "\n",
    "# gradient descent loop\n",
    "num_examples = X.shape[0]\n",
    "for i in xrange(10000):\n",
    "  \n",
    "    # evaluate class scores, [N x K]\n",
    "    hidden_layer = np.maximum(0, np.dot(X, W) + b) # note, ReLU activation\n",
    "    scores = np.dot(hidden_layer, W2) + b2\n",
    "  \n",
    "    # compute the class probabilities\n",
    "    exp_scores = np.exp(scores)\n",
    "    probs = exp_scores / np.sum(exp_scores, axis=1, keepdims=True) # [N x K]\n",
    "  \n",
    "    # compute the loss: average cross-entropy loss and regularization\n",
    "    corect_logprobs = -np.log(probs[range(num_examples),y])\n",
    "    data_loss = np.sum(corect_logprobs)/num_examples\n",
    "    reg_loss = 0.5*reg*np.sum(W*W) + 0.5*reg*np.sum(W2*W2)\n",
    "    loss = data_loss + reg_loss\n",
    "    if i % 1000 == 0:\n",
    "        print \"iteration %d: loss %f\" % (i, loss)\n",
    "  \n",
    "    # compute the gradient on scores\n",
    "    dscores = probs\n",
    "    dscores[range(num_examples),y] -= 1\n",
    "    dscores /= num_examples\n",
    "  \n",
    "    # backpropate the gradient to the parameters\n",
    "    # first backprop into parameters W2 and b2\n",
    "    dW2 = np.dot(hidden_layer.T, dscores)\n",
    "    db2 = np.sum(dscores, axis=0, keepdims=True)\n",
    "    # next backprop into hidden layer\n",
    "    dhidden = np.dot(dscores, W2.T)\n",
    "    # backprop the ReLU non-linearity\n",
    "    dhidden[hidden_layer <= 0] = 0\n",
    "    # finally into W,b\n",
    "    dW = np.dot(X.T, dhidden)\n",
    "    db = np.sum(dhidden, axis=0, keepdims=True)\n",
    "  \n",
    "    # add regularization gradient contribution\n",
    "    dW2 += reg * W2\n",
    "    dW += reg * W\n",
    "  \n",
    "    # perform a parameter update\n",
    "    W += -step_size * dW\n",
    "    b += -step_size * db\n",
    "    W2 += -step_size * dW2\n",
    "    b2 += -step_size * db2\n",
    "  \n",
    "    losses.append(loss.tolist())\n",
    "    weights.append(W.tolist())\n",
    "    biases.append(b.tolist())\n",
    "  \n",
    "    weights2.append(W2.tolist())\n",
    "    biases2.append(b2.tolist())\n",
    "    \n",
    "with open(filePrefix + \"NNlosses.txt\",\"w\") as f:\n",
    "    f.write(json.dumps(losses))\n",
    "    \n",
    "with open(filePrefix + \"NNweights.txt\",\"w\") as f:\n",
    "    f.write(json.dumps(weights))\n",
    "with open(filePrefix + \"NNbiases.txt\",\"w\") as f:\n",
    "    f.write(json.dumps(biases))  \n",
    "    \n",
    "with open(filePrefix + \"NNweights2.txt\",\"w\") as f:\n",
    "    f.write(json.dumps(weights2))\n",
    "with open(filePrefix + \"NNbiases2.txt\",\"w\") as f:\n",
    "    f.write(json.dumps(biases2))  "
   ]
  },
  {
   "cell_type": "code",
   "execution_count": 165,
   "metadata": {
    "collapsed": false
   },
   "outputs": [
    {
     "name": "stdout",
     "output_type": "stream",
     "text": [
      "[[  3.94428432e+00  -2.16205991e-07   6.04773069e+00]\n",
      " [ -3.92869945e+00  -3.97610851e-07  -4.11932130e+00]]\n"
     ]
    }
   ],
   "source": [
    "print W # weight matrix between input layer and hidden layer with 3 nodes"
   ]
  },
  {
   "cell_type": "code",
   "execution_count": 166,
   "metadata": {
    "collapsed": false
   },
   "outputs": [
    {
     "name": "stdout",
     "output_type": "stream",
     "text": [
      "[[ 2.99404786  0.         -1.65113639]]\n"
     ]
    }
   ],
   "source": [
    "print b # we have 3 nodes on the hidden layer so we have 3 biases"
   ]
  },
  {
   "cell_type": "code",
   "execution_count": 167,
   "metadata": {
    "collapsed": false
   },
   "outputs": [
    {
     "name": "stdout",
     "output_type": "stream",
     "text": [
      "[[  1.68082589e+00  -1.68082670e+00]\n",
      " [  4.20679350e-07   4.29060422e-07]\n",
      " [ -4.31465961e+00   4.31465982e+00]]\n"
     ]
    }
   ],
   "source": [
    "print W2 #weight matrix between hidden layer (3 nodes) and output layer (2 nodes since we picked 2 classes)"
   ]
  },
  {
   "cell_type": "code",
   "execution_count": 168,
   "metadata": {
    "collapsed": false
   },
   "outputs": [
    {
     "name": "stdout",
     "output_type": "stream",
     "text": [
      "[[-1.4059747  1.4059747]]\n"
     ]
    }
   ],
   "source": [
    "print b2 #biases on the output layer, since we have two nodes on the output layer, we have two biases"
   ]
  },
  {
   "cell_type": "code",
   "execution_count": 169,
   "metadata": {
    "collapsed": false
   },
   "outputs": [
    {
     "name": "stdout",
     "output_type": "stream",
     "text": [
      "training accuracy: 0.89\n"
     ]
    }
   ],
   "source": [
    "# evaluate training set accuracy\n",
    "hidden_layer = np.maximum(0, np.dot(X, W) + b)\n",
    "scores = np.dot(hidden_layer, W2) + b2\n",
    "predicted_class = np.argmax(scores, axis=1)\n",
    "print 'training accuracy: %.2f' % (np.mean(predicted_class == y))"
   ]
  },
  {
   "cell_type": "code",
   "execution_count": 170,
   "metadata": {
    "collapsed": false
   },
   "outputs": [
    {
     "data": {
      "image/png": "[encoded data removed]",
      "text/plain": [
       "<matplotlib.figure.Figure at 0x2294d0b8>"
      ]
     },
     "metadata": {},
     "output_type": "display_data"
    }
   ],
   "source": [
    "# plot the resulting classifier\n",
    "h = 0.02\n",
    "x_min, x_max = X[:, 0].min() - 1, X[:, 0].max() + 1\n",
    "y_min, y_max = X[:, 1].min() - 1, X[:, 1].max() + 1\n",
    "xx, yy = np.meshgrid(np.arange(x_min, x_max, h),\n",
    "                     np.arange(y_min, y_max, h))\n",
    "Z = np.dot(np.maximum(0, np.dot(np.c_[xx.ravel(), yy.ravel()], W) + b), W2) + b2\n",
    "Z = np.argmax(Z, axis=1)\n",
    "Z = Z.reshape(xx.shape)\n",
    "fig = plt.figure()\n",
    "plt.contourf(xx, yy, Z, colors=('w', 'k', 'k'), alpha=0.8)\n",
    "plt.scatter(X[:, 0], X[:, 1], c=colorMap, s=100)\n",
    "plt.xlim(xx.min(), xx.max())\n",
    "plt.ylim(yy.min(), yy.max())\n",
    "fig.savefig(filePrefix + 'NN_contourf.png')"
   ]
  },
  {
   "cell_type": "code",
   "execution_count": 171,
   "metadata": {
    "collapsed": false
   },
   "outputs": [
    {
     "name": "stdout",
     "output_type": "stream",
     "text": [
      "(150L, 150L)\n"
     ]
    }
   ],
   "source": [
    "print Z.shape"
   ]
  },
  {
   "cell_type": "code",
   "execution_count": null,
   "metadata": {
    "collapsed": true
   },
   "outputs": [],
   "source": []
  }
 ],
 "metadata": {
  "kernelspec": {
   "display_name": "Python 2",
   "language": "python",
   "name": "python2"
  },
  "language_info": {
   "codemirror_mode": {
    "name": "ipython",
    "version": 2
   },
   "file_extension": ".py",
   "mimetype": "text/x-python",
   "name": "python",
   "nbconvert_exporter": "python",
   "pygments_lexer": "ipython2",
   "version": "2.7.10"
  }
 },
 "nbformat": 4,
 "nbformat_minor": 0
}
