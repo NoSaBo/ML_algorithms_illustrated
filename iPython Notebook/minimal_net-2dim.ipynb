{
 "cells": [
  {
   "cell_type": "code",
   "execution_count": 172,
   "metadata": {
    "collapsed": false
   },
   "outputs": [
    {
     "name": "stdout",
     "output_type": "stream",
     "text": [
      "The autoreload extension is already loaded. To reload it, use:\n",
      "  %reload_ext autoreload\n"
     ]
    }
   ],
   "source": [
    "# A bit of setup\n",
    "import numpy as np\n",
    "import matplotlib.pyplot as plt\n",
    "import json\n",
    "\n",
    "%matplotlib inline\n",
    "plt.rcParams['figure.figsize'] = (10.0, 8.0) # set default size of plots\n",
    "plt.rcParams['image.interpolation'] = 'nearest'\n",
    "plt.rcParams['image.cmap'] = 'gray'\n",
    "\n",
    "# for auto-reloading extenrnal modules\n",
    "# see http://stackoverflow.com/questions/1907993/autoreload-of-modules-in-ipython\n",
    "%load_ext autoreload\n",
    "%autoreload 2"
   ]
  },
  {
   "cell_type": "code",
   "execution_count": 248,
   "metadata": {
    "collapsed": true
   },
   "outputs": [],
   "source": [
    "D = 2 # dimensionality, we have x1 and x2, so pick 2, this is also number of nodes on the input layer\n",
    "K = 2 # number of classes, which is also number of nodes on the output layer, we pick 2"
   ]
  },
  {
   "cell_type": "code",
   "execution_count": 249,
   "metadata": {
    "collapsed": true
   },
   "outputs": [],
   "source": [
    "# Linearly separable case for the Logistic regression\n",
    "filePrefix = 'LinearlySeparableCase-'\n",
    "X = np.array([[98, 5.5],\n",
    "    [120, 5.8],\n",
    "    [168, 6.2],\n",
    "    [200, 5.5],\n",
    "    [210, 5],\n",
    "    [168, 5]])\n",
    "y= [0,0,0,1,1,1]"
   ]
  },
  {
   "cell_type": "code",
   "execution_count": 250,
   "metadata": {
    "collapsed": false
   },
   "outputs": [
    {
     "name": "stdout",
     "output_type": "stream",
     "text": [
      "[0, 0, 0, 1, 1, 1]\n",
      "['w', 'w', 'w', 'k', 'k', 'k']\n"
     ]
    }
   ],
   "source": [
    "print y\n",
    "colorMap = []\n",
    "for i in y:\n",
    "    if i==0:\n",
    "        colorMap.append('w')\n",
    "    if i==1:\n",
    "        colorMap.append('k')\n",
    "print colorMap"
   ]
  },
  {
   "cell_type": "code",
   "execution_count": 251,
   "metadata": {
    "collapsed": false
   },
   "outputs": [
    {
     "name": "stdout",
     "output_type": "stream",
     "text": [
      "[[  98.     5.5]\n",
      " [ 120.     5.8]\n",
      " [ 168.     6.2]\n",
      " [ 200.     5.5]\n",
      " [ 210.     5. ]\n",
      " [ 168.     5. ]]\n",
      "[0, 0, 0, 1, 1, 1]\n"
     ]
    },
    {
     "data": {
      "image/png": "[encoded data removed]",
      "text/plain": [
       "<matplotlib.figure.Figure at 0x12a98c850>"
      ]
     },
     "metadata": {},
     "output_type": "display_data"
    }
   ],
   "source": [
    "\n",
    "fig = plt.figure()\n",
    "plt.scatter(X[:, 0], X[:, 1], c=colorMap, s=80)\n",
    "plt.xlim([np.min(X[:,0])-.5,np.max(X[:,0])+.5])\n",
    "plt.ylim([np.min(X[:,1])-.5,np.max(X[:,1])+.5])\n",
    "fig.savefig(filePrefix + 'raw.png')\n",
    "print X\n",
    "print y"
   ]
  },
  {
   "cell_type": "code",
   "execution_count": 252,
   "metadata": {
    "collapsed": false
   },
   "outputs": [
    {
     "name": "stdout",
     "output_type": "stream",
     "text": [
      "[[ 0.          0.41666667]\n",
      " [ 0.19642857  0.66666667]\n",
      " [ 0.625       1.        ]\n",
      " [ 0.91071429  0.41666667]\n",
      " [ 1.          0.        ]\n",
      " [ 0.625       0.        ]]\n",
      "[0, 0, 0, 1, 1, 1]\n"
     ]
    },
    {
     "data": {
      "image/png": "[encoded data removed]",
      "text/plain": [
       "<matplotlib.figure.Figure at 0x1297e8050>"
      ]
     },
     "metadata": {},
     "output_type": "display_data"
    }
   ],
   "source": [
    "# Step 1\n",
    "# Normalize data \n",
    "\n",
    "X1 = map(lambda x: (x-np.min(X[:,0]))/(np.max(X[:,0])-np.min(X[:,0])), X[:,0])\n",
    "X2 = map(lambda x: (x-np.min(X[:,1]))/(np.max(X[:,1])-np.min(X[:,1])), X[:,1])\n",
    "X = np.array(zip(X1,X2))\n",
    "\n",
    "fig = plt.figure()\n",
    "plt.scatter(X[:, 0], X[:, 1], c=colorMap, s=80)\n",
    "plt.xlim([np.min(X[:,0])-.5,np.max(X[:,0])+.5])\n",
    "plt.ylim([np.min(X[:,1])-.5,np.max(X[:,1])+.5])\n",
    "fig.savefig(filePrefix + 'normalized.png')\n",
    "print X\n",
    "print y"
   ]
  },
  {
   "cell_type": "code",
   "execution_count": 253,
   "metadata": {
    "collapsed": false,
    "scrolled": false
   },
   "outputs": [
    {
     "name": "stdout",
     "output_type": "stream",
     "text": [
      "200\n",
      "200\n",
      "200\n",
      "200\n"
     ]
    }
   ],
   "source": [
    "#Train a Linear Classifier\n",
    "\n",
    "# initialize parameters randomly\n",
    "W = 0.01 * np.random.randn(D,K)\n",
    "b = np.zeros((1,K))\n",
    "\n",
    "# some hyperparameters\n",
    "step_size = 1\n",
    "reg = 1e-3 # regularization strength\n",
    "\n",
    "losses = []\n",
    "weights = []\n",
    "biases = []\n",
    "\n",
    "contourData = []\n",
    "\n",
    "# gradient descent loop\n",
    "num_examples = X.shape[0]\n",
    "for i in xrange(20000):\n",
    "  \n",
    "    # evaluate class scores, [N x K], this hasonly one layer, so scores are predicted results\n",
    "    scores = np.dot(X, W) + b \n",
    "\n",
    "    if i %100 ==0:\n",
    "        h = 0.08\n",
    "        x_min, x_max = X[:, 0].min() - .1, X[:, 0].max() + .1\n",
    "        y_min, y_max = X[:, 1].min() - .1, X[:, 1].max() + .1\n",
    "        xx, yy = np.meshgrid(np.arange(x_min, x_max, h),\n",
    "                             np.arange(y_min, y_max, h))\n",
    "        Z = np.dot(np.c_[xx.ravel(), yy.ravel()], W) + b\n",
    "        Z = np.argmax(Z, axis=1)\n",
    "        Z = Z.reshape(xx.shape)\n",
    "        contour =[zip(xx.flatten(), yy.flatten(), Z.flatten())]\n",
    "        contourData.append(contour)\n",
    "        \n",
    "    # compute the class probabilities\n",
    "    exp_scores = np.exp(scores)\n",
    "    probs = exp_scores / np.sum(exp_scores, axis=1, keepdims=True) # [N x K]\n",
    "  \n",
    "    # compute the loss: average cross-entropy loss and regularization\n",
    "    corect_logprobs = -np.log(probs[range(num_examples),y])\n",
    "    data_loss = np.sum(corect_logprobs)/num_examples\n",
    "    reg_loss = 0.5*reg*np.sum(W*W)\n",
    "    loss = data_loss + reg_loss\n",
    "    \n",
    "    #   if i % 10 == 0:\n",
    "    #     print \"iteration %d: loss %f\" % (i, loss)\n",
    "    \n",
    "    # compute the gradient on scores\n",
    "    dscores = probs\n",
    "    dscores[range(num_examples),y] -= 1\n",
    "    dscores /= num_examples\n",
    "  \n",
    "    # backpropate the gradient to the parameters (W,b)\n",
    "    dW = np.dot(X.T, dscores)\n",
    "    db = np.sum(dscores, axis=0, keepdims=True)\n",
    "  \n",
    "    dW += reg*W # regularization gradient\n",
    "  \n",
    "    # perform a parameter update\n",
    "    W += -step_size * dW\n",
    "    b += -step_size * db\n",
    "    \n",
    "    if i %100 ==0:\n",
    "        losses.append(loss.tolist())\n",
    "        weights.append(W.tolist())\n",
    "        biases.append(b.tolist())\n",
    "\n",
    "print len(weights)\n",
    "with open(filePrefix + \"LRweights.txt\",\"w\") as f:\n",
    "    f.write(json.dumps(weights))\n",
    "\n",
    "print len(losses)\n",
    "with open(filePrefix + \"LRlosses.txt\",\"w\") as f:\n",
    "    f.write(json.dumps(losses))\n",
    "\n",
    "print len(biases)\n",
    "with open(filePrefix + \"LRbiases.txt\",\"w\") as f:\n",
    "    f.write(json.dumps(biases))\n",
    "    \n",
    "print len(contourData)\n",
    "with open(filePrefix + \"LRcontour.txt\",\"w\") as f:\n",
    "    f.write(json.dumps(contourData))"
   ]
  },
  {
   "cell_type": "code",
   "execution_count": 254,
   "metadata": {
    "collapsed": false
   },
   "outputs": [
    {
     "name": "stdout",
     "output_type": "stream",
     "text": [
      "(2, 2)\n"
     ]
    }
   ],
   "source": [
    "print W.shape"
   ]
  },
  {
   "cell_type": "code",
   "execution_count": 255,
   "metadata": {
    "collapsed": false
   },
   "outputs": [
    {
     "name": "stdout",
     "output_type": "stream",
     "text": [
      "(1, 2)\n"
     ]
    }
   ],
   "source": [
    "print b.shape"
   ]
  },
  {
   "cell_type": "code",
   "execution_count": 256,
   "metadata": {
    "collapsed": false
   },
   "outputs": [
    {
     "name": "stdout",
     "output_type": "stream",
     "text": [
      "training accuracy: 1.00\n"
     ]
    }
   ],
   "source": [
    "# evaluate training set accuracy\n",
    "scores = np.dot(X, W) + b\n",
    "predicted_class = np.argmax(scores, axis=1)\n",
    "print 'training accuracy: %.2f' % (np.mean(predicted_class == y))"
   ]
  },
  {
   "cell_type": "code",
   "execution_count": 257,
   "metadata": {
    "collapsed": false
   },
   "outputs": [
    {
     "data": {
      "image/png": "[encoded data removed]",
      "text/plain": [
       "<matplotlib.figure.Figure at 0x12e894610>"
      ]
     },
     "metadata": {},
     "output_type": "display_data"
    }
   ],
   "source": [
    "# plot the resulting classifier\n",
    "h = 0.08\n",
    "x_min, x_max = X[:, 0].min() - .1, X[:, 0].max() + .1\n",
    "y_min, y_max = X[:, 1].min() - .1, X[:, 1].max() + .1\n",
    "xx, yy = np.meshgrid(np.arange(x_min, x_max, h),\n",
    "                     np.arange(y_min, y_max, h))\n",
    "Z = np.dot(np.c_[xx.ravel(), yy.ravel()], W) + b\n",
    "Z = np.argmax(Z, axis=1)\n",
    "Z = Z.reshape(xx.shape)\n",
    "fig = plt.figure()\n",
    "plt.contourf(xx,yy, Z, colors=('w', 'w', 'k'), alpha=0.8)\n",
    "plt.scatter(X[:, 0], X[:, 1], c=colorMap, s=100)\n",
    "plt.xlim(xx.min(), xx.max())\n",
    "plt.ylim(yy.min(), yy.max())\n",
    "fig.savefig(filePrefix + 'LR_contourf.png')"
   ]
  },
  {
   "cell_type": "code",
   "execution_count": 258,
   "metadata": {
    "collapsed": false
   },
   "outputs": [
    {
     "name": "stdout",
     "output_type": "stream",
     "text": [
      "(16, 16)\n",
      "[[0 0 1 1 1 1 1 1 1 1 1 1 1 1 1 1]\n",
      " [0 0 0 1 1 1 1 1 1 1 1 1 1 1 1 1]\n",
      " [0 0 0 0 1 1 1 1 1 1 1 1 1 1 1 1]\n",
      " [0 0 0 0 0 1 1 1 1 1 1 1 1 1 1 1]\n",
      " [0 0 0 0 0 0 1 1 1 1 1 1 1 1 1 1]\n",
      " [0 0 0 0 0 0 0 1 1 1 1 1 1 1 1 1]\n",
      " [0 0 0 0 0 0 0 0 1 1 1 1 1 1 1 1]\n",
      " [0 0 0 0 0 0 0 0 0 1 1 1 1 1 1 1]\n",
      " [0 0 0 0 0 0 0 0 0 0 1 1 1 1 1 1]\n",
      " [0 0 0 0 0 0 0 0 0 0 0 1 1 1 1 1]\n",
      " [0 0 0 0 0 0 0 0 0 0 0 0 1 1 1 1]\n",
      " [0 0 0 0 0 0 0 0 0 0 0 0 1 1 1 1]\n",
      " [0 0 0 0 0 0 0 0 0 0 0 0 0 1 1 1]\n",
      " [0 0 0 0 0 0 0 0 0 0 0 0 0 0 1 1]\n",
      " [0 0 0 0 0 0 0 0 0 0 0 0 0 0 0 1]\n",
      " [0 0 0 0 0 0 0 0 0 0 0 0 0 0 0 0]]\n"
     ]
    }
   ],
   "source": [
    "print Z.shape\n",
    "print Z"
   ]
  },
  {
   "cell_type": "code",
   "execution_count": 259,
   "metadata": {
    "collapsed": true
   },
   "outputs": [],
   "source": [
    "# Linearly non-separable case for the NN\n",
    "filePrefix = 'LinearlyNonSeparableCase-'\n",
    "X = np.array([[98, 5.5],\n",
    "    [155, 5.2],\n",
    "    [120, 5.7],\n",
    "    [168, 6.2],\n",
    "    [200, 5.5],\n",
    "    [210, 5],\n",
    "    [168, 5],\n",
    "    [110, 6.0],\n",
    "    [125, 5.8]])\n",
    "y= [0,0,0,0,1,1,1,1,1]\n"
   ]
  },
  {
   "cell_type": "code",
   "execution_count": 260,
   "metadata": {
    "collapsed": false
   },
   "outputs": [
    {
     "name": "stdout",
     "output_type": "stream",
     "text": [
      "[0, 0, 0, 0, 1, 1, 1, 1, 1]\n",
      "['w', 'w', 'w', 'w', 'k', 'k', 'k', 'k', 'k']\n"
     ]
    }
   ],
   "source": [
    "print y\n",
    "colorMap = []\n",
    "for i in y:\n",
    "    if i==0:\n",
    "        colorMap.append('w')\n",
    "    if i==1:\n",
    "        colorMap.append('k')\n",
    "print colorMap"
   ]
  },
  {
   "cell_type": "code",
   "execution_count": 261,
   "metadata": {
    "collapsed": false
   },
   "outputs": [
    {
     "name": "stdout",
     "output_type": "stream",
     "text": [
      "[[  98.     5.5]\n",
      " [ 155.     5.2]\n",
      " [ 120.     5.7]\n",
      " [ 168.     6.2]\n",
      " [ 200.     5.5]\n",
      " [ 210.     5. ]\n",
      " [ 168.     5. ]\n",
      " [ 110.     6. ]\n",
      " [ 125.     5.8]]\n",
      "[0, 0, 0, 0, 1, 1, 1, 1, 1]\n"
     ]
    },
    {
     "data": {
      "image/png": "[encoded data removed]",
      "text/plain": [
       "<matplotlib.figure.Figure at 0x12b6ecb10>"
      ]
     },
     "metadata": {},
     "output_type": "display_data"
    }
   ],
   "source": [
    "fig = plt.figure()\n",
    "plt.scatter(X[:, 0], X[:, 1], c=colorMap, s=80)\n",
    "plt.xlim([np.min(X[:,0])-.5,np.max(X[:,0])+.5])\n",
    "plt.ylim([np.min(X[:,1])-.5,np.max(X[:,1])+.5])\n",
    "fig.savefig(filePrefix + 'raw.png')\n",
    "print X\n",
    "print y"
   ]
  },
  {
   "cell_type": "code",
   "execution_count": 262,
   "metadata": {
    "collapsed": false
   },
   "outputs": [
    {
     "name": "stdout",
     "output_type": "stream",
     "text": [
      "[[ 0.          0.41666667]\n",
      " [ 0.50892857  0.16666667]\n",
      " [ 0.19642857  0.58333333]\n",
      " [ 0.625       1.        ]\n",
      " [ 0.91071429  0.41666667]\n",
      " [ 1.          0.        ]\n",
      " [ 0.625       0.        ]\n",
      " [ 0.10714286  0.83333333]\n",
      " [ 0.24107143  0.66666667]]\n",
      "[0, 0, 0, 0, 1, 1, 1, 1, 1]\n"
     ]
    },
    {
     "data": {
      "image/png": "[encoded data removed]",
      "text/plain": [
       "<matplotlib.figure.Figure at 0x12b6b37d0>"
      ]
     },
     "metadata": {},
     "output_type": "display_data"
    }
   ],
   "source": [
    "# Step 1\n",
    "# Normalize data \n",
    "\n",
    "X1 = map(lambda x: (x-np.min(X[:,0]))/(np.max(X[:,0])-np.min(X[:,0])), X[:,0])\n",
    "X2 = map(lambda x: (x-np.min(X[:,1]))/(np.max(X[:,1])-np.min(X[:,1])), X[:,1])\n",
    "X = np.array(zip(X1,X2))\n",
    "\n",
    "fig = plt.figure()\n",
    "plt.scatter(X[:, 0], X[:, 1], c=colorMap, s=80)\n",
    "plt.xlim([np.min(X[:,0])-.5,np.max(X[:,0])+.5])\n",
    "plt.ylim([np.min(X[:,1])-.5,np.max(X[:,1])+.5])\n",
    "fig.savefig(filePrefix + 'normalized.png')\n",
    "print X\n",
    "print y"
   ]
  },
  {
   "cell_type": "code",
   "execution_count": 263,
   "metadata": {
    "collapsed": false
   },
   "outputs": [
    {
     "name": "stdout",
     "output_type": "stream",
     "text": [
      "iteration 0: loss 0.693160\n",
      "iteration 1000: loss 0.235666\n",
      "iteration 2000: loss 0.240372\n",
      "iteration 3000: loss 0.175516\n",
      "iteration 4000: loss 0.206773\n",
      "iteration 5000: loss 0.308316\n",
      "iteration 6000: loss 0.222184\n",
      "iteration 7000: loss 0.214840\n",
      "iteration 8000: loss 0.242467\n",
      "iteration 9000: loss 0.237257\n",
      "iteration 10000: loss 0.243583\n",
      "iteration 11000: loss 0.139388\n",
      "iteration 12000: loss 0.497965\n",
      "iteration 13000: loss 0.212155\n",
      "iteration 14000: loss 0.179390\n",
      "iteration 15000: loss 0.179967\n",
      "iteration 16000: loss 0.154675\n",
      "iteration 17000: loss 0.471395\n",
      "iteration 18000: loss 0.234032\n",
      "iteration 19000: loss 0.159360\n",
      "200\n",
      "200\n",
      "200\n",
      "200\n",
      "200\n",
      "200\n"
     ]
    }
   ],
   "source": [
    "# initialize parameters randomly\n",
    "h = 100 # size of node on the hidden layer\n",
    "W = 0.01 * np.random.randn(D,h)\n",
    "b = np.zeros((1,h))\n",
    "W2 = 0.01 * np.random.randn(h,K)\n",
    "b2 = np.zeros((1,K))\n",
    "\n",
    "# some hyperparameters\n",
    "step_size = 1e-0\n",
    "reg = 1e-3 # regularization strength\n",
    "\n",
    "# store intermediate values\n",
    "losses = []\n",
    "\n",
    "# layer 1\n",
    "weights = []\n",
    "biases = []\n",
    "\n",
    "# layer 2\n",
    "weights2 = []\n",
    "biases2 = []\n",
    "\n",
    "contourData = []\n",
    "\n",
    "# gradient descent loop\n",
    "num_examples = X.shape[0]\n",
    "for i in xrange(20000):\n",
    "  \n",
    "    # evaluate class scores, [N x K]\n",
    "    hidden_layer = np.maximum(0, np.dot(X, W) + b) # note, ReLU activation\n",
    "    scores = np.dot(hidden_layer, W2) + b2\n",
    "    \n",
    "    if i%100==0:\n",
    "        h = 0.08\n",
    "        x_min, x_max = X[:, 0].min() - .1, X[:, 0].max() + .1\n",
    "        y_min, y_max = X[:, 1].min() - .1, X[:, 1].max() + .1\n",
    "        xx, yy = np.meshgrid(np.arange(x_min, x_max, h),\n",
    "                             np.arange(y_min, y_max, h))\n",
    "        Z = np.dot(np.maximum(0, np.dot(np.c_[xx.ravel(), yy.ravel()], W) + b), W2) + b2\n",
    "        Z = np.argmax(Z, axis=1)\n",
    "        Z = Z.reshape(xx.shape)\n",
    "        contour =[zip(xx.flatten(), yy.flatten(), Z.flatten())]\n",
    "        contourData.append(contour)\n",
    "\n",
    "    # compute the class probabilities\n",
    "    exp_scores = np.exp(scores)\n",
    "    probs = exp_scores / np.sum(exp_scores, axis=1, keepdims=True) # [N x K]\n",
    "  \n",
    "    # compute the loss: average cross-entropy loss and regularization\n",
    "    corect_logprobs = -np.log(probs[range(num_examples),y])\n",
    "    data_loss = np.sum(corect_logprobs)/num_examples\n",
    "    reg_loss = 0.5*reg*np.sum(W*W) + 0.5*reg*np.sum(W2*W2)\n",
    "    loss = data_loss + reg_loss\n",
    "    \n",
    "    if i % 1000 == 0:\n",
    "        print \"iteration %d: loss %f\" % (i, loss)\n",
    "  \n",
    "    # compute the gradient on scores\n",
    "    dscores = probs\n",
    "    dscores[range(num_examples),y] -= 1\n",
    "    dscores /= num_examples\n",
    "  \n",
    "    # backpropate the gradient to the parameters\n",
    "    # first backprop into parameters W2 and b2\n",
    "    dW2 = np.dot(hidden_layer.T, dscores)\n",
    "    db2 = np.sum(dscores, axis=0, keepdims=True)\n",
    "    # next backprop into hidden layer\n",
    "    dhidden = np.dot(dscores, W2.T)\n",
    "    # backprop the ReLU non-linearity\n",
    "    dhidden[hidden_layer <= 0] = 0\n",
    "    # finally into W,b\n",
    "    dW = np.dot(X.T, dhidden)\n",
    "    db = np.sum(dhidden, axis=0, keepdims=True)\n",
    "  \n",
    "    # add regularization gradient contribution\n",
    "    dW2 += reg * W2\n",
    "    dW += reg * W\n",
    "  \n",
    "    # perform a parameter update\n",
    "    W += -step_size * dW\n",
    "    b += -step_size * db\n",
    "    W2 += -step_size * dW2\n",
    "    b2 += -step_size * db2\n",
    "    \n",
    "    if i%100==0:\n",
    "        losses.append(loss.tolist())\n",
    "        weights.append(W.tolist())\n",
    "        biases.append(b.tolist())\n",
    "\n",
    "        weights2.append(W2.tolist())\n",
    "        biases2.append(b2.tolist())\n",
    "\n",
    "print len(losses)        \n",
    "with open(filePrefix + \"NNlosses.txt\",\"w\") as f:\n",
    "    f.write(json.dumps(losses))\n",
    "\n",
    "print len(weights)\n",
    "with open(filePrefix + \"NNweights.txt\",\"w\") as f:\n",
    "    f.write(json.dumps(weights))\n",
    "\n",
    "print len(biases)\n",
    "with open(filePrefix + \"NNbiases.txt\",\"w\") as f:\n",
    "    f.write(json.dumps(biases))  \n",
    "\n",
    "print len(weights2)\n",
    "with open(filePrefix + \"NNweights2.txt\",\"w\") as f:\n",
    "    f.write(json.dumps(weights2))\n",
    "\n",
    "print len(biases2)\n",
    "with open(filePrefix + \"NNbiases2.txt\",\"w\") as f:\n",
    "    f.write(json.dumps(biases2))  \n",
    "\n",
    "print len(contourData)\n",
    "with open(filePrefix + \"NNcontour.txt\",\"w\") as f:\n",
    "    f.write(json.dumps(contourData))"
   ]
  },
  {
   "cell_type": "code",
   "execution_count": 264,
   "metadata": {
    "collapsed": false
   },
   "outputs": [
    {
     "name": "stdout",
     "output_type": "stream",
     "text": [
      "(2, 100)\n"
     ]
    }
   ],
   "source": [
    "print W.shape # weight matrix between input layer and hidden layer with 3 nodes"
   ]
  },
  {
   "cell_type": "code",
   "execution_count": 265,
   "metadata": {
    "collapsed": false
   },
   "outputs": [
    {
     "name": "stdout",
     "output_type": "stream",
     "text": [
      "(1, 100)\n"
     ]
    }
   ],
   "source": [
    "print b.shape # we have 3 nodes on the hidden layer so we have 3 biases"
   ]
  },
  {
   "cell_type": "code",
   "execution_count": 266,
   "metadata": {
    "collapsed": false
   },
   "outputs": [
    {
     "name": "stdout",
     "output_type": "stream",
     "text": [
      "(100, 2)\n"
     ]
    }
   ],
   "source": [
    "print W2.shape #weight matrix between hidden layer (3 nodes) and output layer (2 nodes since we picked 2 classes)"
   ]
  },
  {
   "cell_type": "code",
   "execution_count": 267,
   "metadata": {
    "collapsed": false
   },
   "outputs": [
    {
     "name": "stdout",
     "output_type": "stream",
     "text": [
      "(1, 2)\n"
     ]
    }
   ],
   "source": [
    "print b2.shape #biases on the output layer, since we have two nodes on the output layer, we have two biases"
   ]
  },
  {
   "cell_type": "code",
   "execution_count": 268,
   "metadata": {
    "collapsed": false
   },
   "outputs": [
    {
     "name": "stdout",
     "output_type": "stream",
     "text": [
      "training accuracy: 0.89\n"
     ]
    }
   ],
   "source": [
    "# evaluate training set accuracy\n",
    "hidden_layer = np.maximum(0, np.dot(X, W) + b)\n",
    "scores = np.dot(hidden_layer, W2) + b2\n",
    "predicted_class = np.argmax(scores, axis=1)\n",
    "print 'training accuracy: %.2f' % (np.mean(predicted_class == y))"
   ]
  },
  {
   "cell_type": "code",
   "execution_count": 269,
   "metadata": {
    "collapsed": false
   },
   "outputs": [
    {
     "data": {
      "image/png": "[encoded data removed]",
      "text/plain": [
       "<matplotlib.figure.Figure at 0x129d94bd0>"
      ]
     },
     "metadata": {},
     "output_type": "display_data"
    }
   ],
   "source": [
    "# plot the resulting classifier\n",
    "h = 0.08\n",
    "x_min, x_max = X[:, 0].min() - .1, X[:, 0].max() + .1\n",
    "y_min, y_max = X[:, 1].min() - .1, X[:, 1].max() + .1\n",
    "xx, yy = np.meshgrid(np.arange(x_min, x_max, h),\n",
    "                     np.arange(y_min, y_max, h))\n",
    "Z = np.dot(np.maximum(0, np.dot(np.c_[xx.ravel(), yy.ravel()], W) + b), W2) + b2\n",
    "Z = np.argmax(Z, axis=1)\n",
    "Z = Z.reshape(xx.shape)\n",
    "fig = plt.figure()\n",
    "plt.contourf(xx, yy, Z, colors=('w', 'k', 'k'), alpha=0.8)\n",
    "plt.scatter(X[:, 0], X[:, 1], c=colorMap, s=100)\n",
    "plt.xlim(xx.min(), xx.max())\n",
    "plt.ylim(yy.min(), yy.max())\n",
    "fig.savefig(filePrefix + 'NN_contourf.png')"
   ]
  },
  {
   "cell_type": "code",
   "execution_count": 270,
   "metadata": {
    "collapsed": false
   },
   "outputs": [
    {
     "name": "stdout",
     "output_type": "stream",
     "text": [
      "(16, 16)\n"
     ]
    }
   ],
   "source": [
    "print Z.shape"
   ]
  },
  {
   "cell_type": "code",
   "execution_count": 271,
   "metadata": {
    "collapsed": false
   },
   "outputs": [
    {
     "name": "stdout",
     "output_type": "stream",
     "text": [
      "[[0 0 0 0 0 0 0 0 0 1 1 1 1 1 1 1]\n",
      " [0 0 0 0 0 0 0 0 0 1 1 1 1 1 1 1]\n",
      " [0 0 0 0 0 0 0 0 0 1 1 1 1 1 1 1]\n",
      " [0 0 0 0 0 0 0 0 0 1 1 1 1 1 1 1]\n",
      " [0 0 0 0 0 0 0 0 0 1 1 1 1 1 1 1]\n",
      " [0 0 0 0 0 0 0 0 0 1 1 1 1 1 1 1]\n",
      " [0 0 0 0 0 0 0 0 0 0 1 1 1 1 1 1]\n",
      " [0 0 0 0 0 0 0 0 0 0 0 1 1 1 1 1]\n",
      " [0 0 0 0 0 0 0 0 0 0 0 0 1 1 1 1]\n",
      " [0 0 1 1 1 1 0 0 0 0 0 0 1 1 1 1]\n",
      " [1 1 1 1 1 1 0 0 0 0 0 0 0 1 1 1]\n",
      " [1 1 1 1 1 1 1 0 0 0 0 0 0 0 1 1]\n",
      " [1 1 1 1 1 1 1 0 0 0 0 0 0 0 0 1]\n",
      " [1 1 1 1 1 1 1 1 0 0 0 0 0 0 0 0]\n",
      " [1 1 1 1 1 1 1 1 0 0 0 0 0 0 0 0]\n",
      " [1 1 1 1 1 1 1 1 1 0 0 0 0 0 0 0]]\n"
     ]
    }
   ],
   "source": [
    "print Z"
   ]
  },
  {
   "cell_type": "code",
   "execution_count": null,
   "metadata": {
    "collapsed": true
   },
   "outputs": [],
   "source": []
  }
 ],
 "metadata": {
  "anaconda-cloud": {},
  "kernelspec": {
   "display_name": "Python [default]",
   "language": "python",
   "name": "python2"
  },
  "language_info": {
   "codemirror_mode": {
    "name": "ipython",
    "version": 2
   },
   "file_extension": ".py",
   "mimetype": "text/x-python",
   "name": "python",
   "nbconvert_exporter": "python",
   "pygments_lexer": "ipython2",
   "version": "2.7.12"
  }
 },
 "nbformat": 4,
 "nbformat_minor": 0
}
